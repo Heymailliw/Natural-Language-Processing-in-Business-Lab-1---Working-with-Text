{
 "cells": [
  {
   "cell_type": "markdown",
   "id": "93fbe058",
   "metadata": {},
   "source": [
    "# Lab Assessment - Working with text\n",
    "\n",
    "Welcome to our first lab!!\n",
    "\n",
    "Complete the tasks described in bold below by typing the code in the cells.<br>"
   ]
  },
  {
   "cell_type": "markdown",
   "id": "988c9802",
   "metadata": {},
   "source": [
    "### Working with f-Strings\n",
    "\n",
    "#### 1. Print an f-string that displays `We are learning about Natural Language Processing in Business at MT SAC` using the variables provided."
   ]
  },
  {
   "cell_type": "code",
   "execution_count": 3,
   "id": "c113016a",
   "metadata": {},
   "outputs": [
    {
     "name": "stdout",
     "output_type": "stream",
     "text": [
      "We are learning about Natural Language Processing in Business at MT SAC\n"
     ]
    }
   ],
   "source": [
    "school = 'MT SAC'\n",
    "full_text = 'Natural Language Processing in Business'\n",
    "\n",
    "# Enter your code here:\n",
    "print(f'We are learning about {full_text} at {school}')"
   ]
  },
  {
   "cell_type": "code",
   "execution_count": null,
   "id": "050c4854",
   "metadata": {},
   "outputs": [],
   "source": []
  },
  {
   "cell_type": "markdown",
   "id": "686e291b",
   "metadata": {},
   "source": [
    "#### Create a variable called name and assing your name to it. Then, print and f-string that displays \"My name is (\"your name)\"\n",
    "\n",
    "Example: My name is Angel."
   ]
  },
  {
   "cell_type": "code",
   "execution_count": 5,
   "id": "d6a7e611",
   "metadata": {},
   "outputs": [
    {
     "name": "stdout",
     "output_type": "stream",
     "text": [
      "My name is William Yeh.\n"
     ]
    }
   ],
   "source": [
    "name = 'William Yeh'\n",
    "\n",
    "# Print the f-string\n",
    "print(f'My name is {name}.')\n"
   ]
  },
  {
   "cell_type": "markdown",
   "id": "8a606f72",
   "metadata": {},
   "source": [
    "#### Now print your name around single quotes to get the string representation. \n",
    "Example: My name is 'Angel'"
   ]
  },
  {
   "cell_type": "code",
   "execution_count": 7,
   "id": "e08c7efb",
   "metadata": {},
   "outputs": [
    {
     "name": "stdout",
     "output_type": "stream",
     "text": [
      "My name is 'William Yeh'\n"
     ]
    }
   ],
   "source": [
    "name = 'William Yeh'\n",
    "\n",
    "print(f\"My name is '{name}'\")\n"
   ]
  },
  {
   "cell_type": "markdown",
   "id": "afb8abac",
   "metadata": {},
   "source": [
    "#### Note: A date in Python is not a data type of its own, but we can import a module named datetime to work with dates as date objects.\n",
    "\n",
    "\n",
    "#### Using the datetime module, print today's date as follows:\n",
    "\n",
    "February 24, 2022"
   ]
  },
  {
   "cell_type": "code",
   "execution_count": 8,
   "id": "fd37906d",
   "metadata": {},
   "outputs": [
    {
     "name": "stdout",
     "output_type": "stream",
     "text": [
      "August 31, 2024\n"
     ]
    }
   ],
   "source": [
    "import datetime\n",
    "\n",
    "# Get today's date\n",
    "today = datetime.date(2024, 8, 31)\n",
    "\n",
    "# Format the date as \"Month day, Year\"\n",
    "formatted_date = today.strftime(\"%B %d, %Y\")\n",
    "\n",
    "# Print the formatted date\n",
    "print(formatted_date)\n"
   ]
  },
  {
   "cell_type": "markdown",
   "id": "5b3d40bd",
   "metadata": {},
   "source": [
    "## Working with Files"
   ]
  },
  {
   "cell_type": "markdown",
   "id": "5805491d",
   "metadata": {},
   "source": [
    "#### Create a file in the current working directory called contacts.txt and enter the following text in the first row:  \n",
    "\n",
    "#### First_Name Last_Name, Title, Extension, Email\n",
    "\n",
    "hint: use %%writefile"
   ]
  },
  {
   "cell_type": "code",
   "execution_count": 9,
   "id": "94f1cf37",
   "metadata": {},
   "outputs": [
    {
     "name": "stdout",
     "output_type": "stream",
     "text": [
      "Writing contacts.txt\n"
     ]
    }
   ],
   "source": [
    "%%writefile contacts.txt\n",
    "First_Name Last_Name, Title, Extension, Email\n"
   ]
  },
  {
   "cell_type": "markdown",
   "id": "52b1f3da",
   "metadata": {},
   "source": [
    "### Open the file and use .read() to save the contents of the file to a string called fields. Make sure the file is closed at the end."
   ]
  },
  {
   "cell_type": "code",
   "execution_count": 10,
   "id": "80c03d48",
   "metadata": {},
   "outputs": [
    {
     "name": "stdout",
     "output_type": "stream",
     "text": [
      "First_Name Last_Name, Title, Extension, Email\n",
      "\n"
     ]
    }
   ],
   "source": [
    "# Write your code here:\n",
    "# hint: use with open\n",
    "with open('contacts.txt', 'r') as file:\n",
    "    fields = file.read()\n",
    "\n",
    "\n",
    "    \n",
    "# Run fields to see the contents of contacts.txt:\n",
    "print(fields)\n"
   ]
  },
  {
   "cell_type": "markdown",
   "id": "c1dfc906",
   "metadata": {},
   "source": [
    "## Working with PDF Files"
   ]
  },
  {
   "cell_type": "code",
   "execution_count": 13,
   "id": "96526103",
   "metadata": {},
   "outputs": [
    {
     "name": "stdout",
     "output_type": "stream",
     "text": [
      "Collecting PyPDF2\n",
      "  Downloading pypdf2-3.0.1-py3-none-any.whl.metadata (6.8 kB)\n",
      "Downloading pypdf2-3.0.1-py3-none-any.whl (232 kB)\n",
      "   ---------------------------------------- 0.0/232.6 kB ? eta -:--:--\n",
      "   - -------------------------------------- 10.2/232.6 kB ? eta -:--:--\n",
      "   -------------------------- ------------- 153.6/232.6 kB 2.3 MB/s eta 0:00:01\n",
      "   ---------------------------------------- 232.6/232.6 kB 2.9 MB/s eta 0:00:00\n",
      "Installing collected packages: PyPDF2\n",
      "Successfully installed PyPDF2-3.0.1\n"
     ]
    }
   ],
   "source": [
    "# Install the Library pyPDF2 - if needed\n",
    "# !pip install pyPDF2\n",
    "!pip install PyPDF2\n"
   ]
  },
  {
   "cell_type": "markdown",
   "id": "c415e4e0",
   "metadata": {},
   "source": [
    "#### 4. Use PyPDF2 to open the file `Business_Proposal.pdf`. Extract the text of page 2."
   ]
  },
  {
   "cell_type": "code",
   "execution_count": 14,
   "id": "2347769d",
   "metadata": {},
   "outputs": [
    {
     "name": "stdout",
     "output_type": "stream",
     "text": [
      "AUTHORS:  \n",
      "Amy Baker, Finance Chair, x345, abaker@ourcompany.com  \n",
      "Chris Donaldson, Accounting Dir., x621, cdonaldson@ourcompany.com  \n",
      "Erin Freeman, Sr. VP, x879, efreeman@ourcompany.com  \n"
     ]
    }
   ],
   "source": [
    "# Perform import\n",
    "import PyPDF2\n",
    "\n",
    "# Open the file as a binary object\n",
    "with open('Business_Proposal.pdf', 'rb') as file:\n",
    "    # Use PyPDF2 to read the text of the file\n",
    "    pdf_reader = PyPDF2.PdfReader(file)\n",
    "    \n",
    "    # Get the text from page 2 (CHALLENGE: Do this in one step!)\n",
    "    page_two_text = pdf_reader.pages[1].extract_text()\n",
    "    \n",
    "    # Close the file is handled by 'with' statement\n",
    "\n",
    "# Print the contents of page_two_text\n",
    "print(page_two_text)\n"
   ]
  },
  {
   "cell_type": "markdown",
   "id": "885c0204",
   "metadata": {},
   "source": [
    "#### Open the file `contacts.txt` in append mode. Add the text of page 2 from above to `contacts.txt`."
   ]
  },
  {
   "cell_type": "code",
   "execution_count": 16,
   "id": "76c2ad64",
   "metadata": {},
   "outputs": [],
   "source": [
    "# Hint: use with open\n",
    "#Enter your code here:\n",
    "import PyPDF2\n",
    "\n",
    "# Step 1: Extract the text from page 2 of Business_Proposal.pdf\n",
    "with open('Business_Proposal.pdf', 'rb') as file:\n",
    "    pdf_reader = PyPDF2.PdfReader(file)\n",
    "    page_two_text = pdf_reader.pages[1].extract_text()\n",
    "\n",
    "# Step 2: Open contacts.txt in append mode and add the extracted text\n",
    "with open('contacts.txt', 'a') as file:\n",
    "    file.write(\"\\n\" + page_two_text)\n"
   ]
  },
  {
   "cell_type": "code",
   "execution_count": null,
   "id": "47e6cf3c",
   "metadata": {},
   "outputs": [],
   "source": []
  },
  {
   "cell_type": "markdown",
   "id": "41e43045",
   "metadata": {},
   "source": [
    "### Pluralization and Singularization using textblob\n",
    "\n",
    "#### Import Word from textblob"
   ]
  },
  {
   "cell_type": "code",
   "execution_count": 19,
   "id": "29b4e7f4",
   "metadata": {},
   "outputs": [
    {
     "name": "stdout",
     "output_type": "stream",
     "text": [
      "Requirement already satisfied: textblob in c:\\users\\william\\anaconda3\\lib\\site-packages (0.18.0.post0)\n",
      "Requirement already satisfied: nltk>=3.8 in c:\\users\\william\\anaconda3\\lib\\site-packages (from textblob) (3.8.1)\n",
      "Requirement already satisfied: click in c:\\users\\william\\anaconda3\\lib\\site-packages (from nltk>=3.8->textblob) (8.1.7)\n",
      "Requirement already satisfied: joblib in c:\\users\\william\\anaconda3\\lib\\site-packages (from nltk>=3.8->textblob) (1.2.0)\n",
      "Requirement already satisfied: regex>=2021.8.3 in c:\\users\\william\\anaconda3\\lib\\site-packages (from nltk>=3.8->textblob) (2023.10.3)\n",
      "Requirement already satisfied: tqdm in c:\\users\\william\\anaconda3\\lib\\site-packages (from nltk>=3.8->textblob) (4.65.0)\n",
      "Requirement already satisfied: colorama in c:\\users\\william\\anaconda3\\lib\\site-packages (from click->nltk>=3.8->textblob) (0.4.6)\n",
      "Plural: apples\n",
      "Singular: apple\n"
     ]
    }
   ],
   "source": [
    "!pip install textblob\n",
    "\n",
    "from textblob import Word\n",
    "\n",
    "# Example word\n",
    "word = Word('apple')\n",
    "\n",
    "# Pluralize the word\n",
    "plural_word = word.pluralize()\n",
    "print(f'Plural: {plural_word}')\n",
    "\n",
    "# Singularize the word\n",
    "singular_word = Word('apples').singularize()\n",
    "print(f'Singular: {singular_word}')\n"
   ]
  },
  {
   "cell_type": "markdown",
   "id": "57578d1f",
   "metadata": {},
   "source": [
    "#### create a variable for the word \"mouse\" and call it mouse"
   ]
  },
  {
   "cell_type": "code",
   "execution_count": 20,
   "id": "a9a4d2a7",
   "metadata": {},
   "outputs": [
    {
     "name": "stdout",
     "output_type": "stream",
     "text": [
      "Original word: mouse\n",
      "Pluralized: mice\n",
      "Singularized: mouse\n"
     ]
    }
   ],
   "source": [
    "# Create a variable for the word \"mouse\"\n",
    "mouse = Word('mouse')\n",
    "\n",
    "# Optionally, you can perform actions with the variable\n",
    "print(f'Original word: {mouse}')\n",
    "print(f'Pluralized: {mouse.pluralize()}')\n",
    "print(f'Singularized: {mouse.singularize()}')"
   ]
  },
  {
   "cell_type": "markdown",
   "id": "c56c09fd",
   "metadata": {},
   "source": [
    "#### Pluralize the word \"mouse\""
   ]
  },
  {
   "cell_type": "code",
   "execution_count": 21,
   "id": "66d4060e",
   "metadata": {},
   "outputs": [
    {
     "name": "stdout",
     "output_type": "stream",
     "text": [
      "Plural of \"mouse\": mice\n"
     ]
    }
   ],
   "source": [
    "# Create a variable for the word \"mouse\"\n",
    "mouse = Word('mouse')\n",
    "\n",
    "# Pluralize the word\n",
    "plural_mouse = mouse.pluralize()\n",
    "\n",
    "print(f'Plural of \"mouse\": {plural_mouse}')"
   ]
  },
  {
   "cell_type": "markdown",
   "id": "4d5f4128",
   "metadata": {},
   "source": [
    "#### create a variable for the word \"tooth\" and call it tooth"
   ]
  },
  {
   "cell_type": "code",
   "execution_count": 22,
   "id": "fc806c3f",
   "metadata": {},
   "outputs": [
    {
     "name": "stdout",
     "output_type": "stream",
     "text": [
      "Original word: tooth\n",
      "Pluralized: teeth\n",
      "Singularized: tooth\n"
     ]
    }
   ],
   "source": [
    "# Create a variable for the word \"tooth\"\n",
    "tooth = Word('tooth')\n",
    "\n",
    "# Optionally, you can perform actions with the variable\n",
    "print(f'Original word: {tooth}')\n",
    "print(f'Pluralized: {tooth.pluralize()}')\n",
    "print(f'Singularized: {tooth.singularize()}')"
   ]
  },
  {
   "cell_type": "markdown",
   "id": "8ae6a90b",
   "metadata": {},
   "source": [
    "#### Pluralize the word \"tooth\""
   ]
  },
  {
   "cell_type": "code",
   "execution_count": 23,
   "id": "625218be",
   "metadata": {},
   "outputs": [
    {
     "name": "stdout",
     "output_type": "stream",
     "text": [
      "Plural of \"tooth\": teeth\n"
     ]
    }
   ],
   "source": [
    "# Create a variable for the word \"tooth\"\n",
    "tooth = Word('tooth')\n",
    "\n",
    "# Pluralize the word\n",
    "plural_tooth = tooth.pluralize()\n",
    "\n",
    "print(f'Plural of \"tooth\": {plural_tooth}')"
   ]
  },
  {
   "cell_type": "markdown",
   "id": "8e369ce9",
   "metadata": {},
   "source": [
    "#### create a variable for the word \"mice\" and call it mice"
   ]
  },
  {
   "cell_type": "code",
   "execution_count": 24,
   "id": "40f03168",
   "metadata": {},
   "outputs": [
    {
     "name": "stdout",
     "output_type": "stream",
     "text": [
      "Original word: mice\n",
      "Singularized: mouse\n"
     ]
    }
   ],
   "source": [
    "# Create a variable for the word \"mice\"\n",
    "mice = Word('mice')\n",
    "\n",
    "# Optionally, you can perform actions with the variable\n",
    "print(f'Original word: {mice}')\n",
    "print(f'Singularized: {mice.singularize()}')"
   ]
  },
  {
   "cell_type": "markdown",
   "id": "9be8b664",
   "metadata": {},
   "source": [
    "#### Singularize the word \"mice\""
   ]
  },
  {
   "cell_type": "code",
   "execution_count": 25,
   "id": "7b03f5be",
   "metadata": {},
   "outputs": [
    {
     "name": "stdout",
     "output_type": "stream",
     "text": [
      "Singular of \"mice\": mouse\n"
     ]
    }
   ],
   "source": [
    "# Create a variable for the word \"mice\"\n",
    "mice = Word('mice')\n",
    "\n",
    "# Singularize the word\n",
    "singular_mice = mice.singularize()\n",
    "\n",
    "print(f'Singular of \"mice\": {singular_mice}')"
   ]
  },
  {
   "cell_type": "markdown",
   "id": "2caf09f8",
   "metadata": {},
   "source": [
    "#### Import TextBlob"
   ]
  },
  {
   "cell_type": "code",
   "execution_count": 26,
   "id": "323337a2",
   "metadata": {},
   "outputs": [],
   "source": [
    "from textblob import TextBlob\n"
   ]
  },
  {
   "cell_type": "markdown",
   "id": "6a6e3d6e",
   "metadata": {},
   "source": [
    "#### Using textblob - pluralize the words 'lion tiger fish mouse'"
   ]
  },
  {
   "cell_type": "code",
   "execution_count": 27,
   "id": "168a2c96",
   "metadata": {},
   "outputs": [
    {
     "name": "stdout",
     "output_type": "stream",
     "text": [
      "Pluralized words: ['lions', 'tigers', 'fish', 'mice']\n"
     ]
    }
   ],
   "source": [
    "from textblob import Word\n",
    "\n",
    "# List of words to pluralize\n",
    "words = ['lion', 'tiger', 'fish', 'mouse']\n",
    "\n",
    "# Create Word objects and pluralize them\n",
    "plural_words = [Word(word).pluralize() for word in words]\n",
    "\n",
    "# Print the pluralized words\n",
    "print('Pluralized words:', plural_words)\n"
   ]
  },
  {
   "cell_type": "markdown",
   "id": "87bb23b0",
   "metadata": {},
   "source": [
    "### Spell Checking and Correction"
   ]
  },
  {
   "cell_type": "markdown",
   "id": "3ef672f6",
   "metadata": {},
   "source": [
    "#### import Word from textblob"
   ]
  },
  {
   "cell_type": "code",
   "execution_count": 28,
   "id": "784429d0",
   "metadata": {},
   "outputs": [],
   "source": [
    "from textblob import TextBlob"
   ]
  },
  {
   "cell_type": "markdown",
   "id": "31de146d",
   "metadata": {},
   "source": [
    "#### create a variable called \"word\" and assing the word \"confidense\" usign the Word method "
   ]
  },
  {
   "cell_type": "code",
   "execution_count": 29,
   "id": "07ca1186",
   "metadata": {},
   "outputs": [
    {
     "name": "stdout",
     "output_type": "stream",
     "text": [
      "Corrected word: confidence\n"
     ]
    }
   ],
   "source": [
    "# hint: word = Word('confidense')\n",
    "\n",
    "# Create a variable called \"word\" and assign it the word \"confidense\"\n",
    "word = Word('confidense')\n",
    "\n",
    "# Optionally, you can correct the spelling and print the result\n",
    "corrected_word = word.correct()\n",
    "print(f'Corrected word: {corrected_word}')\n"
   ]
  },
  {
   "cell_type": "markdown",
   "id": "c0d5b44f",
   "metadata": {},
   "source": [
    "#### Check the spelling or the workd \"confidense\""
   ]
  },
  {
   "cell_type": "code",
   "execution_count": 24,
   "id": "f5175fa6",
   "metadata": {},
   "outputs": [
    {
     "data": {
      "text/plain": [
       "[('confidence', 1.0)]"
      ]
     },
     "execution_count": 24,
     "metadata": {},
     "output_type": "execute_result"
    }
   ],
   "source": [
    "word.spellcheck()"
   ]
  },
  {
   "cell_type": "markdown",
   "id": "07486a08",
   "metadata": {},
   "source": [
    "#### Correct the spelling"
   ]
  },
  {
   "cell_type": "code",
   "execution_count": 30,
   "id": "83fd6df9",
   "metadata": {},
   "outputs": [
    {
     "name": "stdout",
     "output_type": "stream",
     "text": [
      "Spellcheck results: [('confidence', 1.0)]\n",
      "Corrected word: confidence\n"
     ]
    }
   ],
   "source": [
    "# Correct the spelling\n",
    "\n",
    "# Create a variable called \"word\" and assign it the word \"confidense\"\n",
    "word = Word('confidense')\n",
    "\n",
    "# Check the spelling\n",
    "spellcheck_results = word.spellcheck()\n",
    "print(f'Spellcheck results: {spellcheck_results}')\n",
    "\n",
    "# Correct the spelling\n",
    "corrected_word = word.correct()\n",
    "print(f'Corrected word: {corrected_word}')\n"
   ]
  },
  {
   "cell_type": "markdown",
   "id": "2bfb1619",
   "metadata": {},
   "source": [
    "#### Correct the spelling in this sentence `'I donot know hwo to spel sentense'`.\n",
    "\n",
    "#### Assing the text: 'I donot know how to spel sentense' to a variable called \"sentence\""
   ]
  },
  {
   "cell_type": "code",
   "execution_count": 32,
   "id": "befca3c2",
   "metadata": {},
   "outputs": [
    {
     "name": "stdout",
     "output_type": "stream",
     "text": [
      "Corrected sentence: I dont know who to spell sentence\n"
     ]
    }
   ],
   "source": [
    "from textblob import TextBlob\n",
    "\n",
    "# Assign the text to a variable called \"sentence\"\n",
    "sentence = 'I donot know hwo to spel sentense'\n",
    "\n",
    "# Create a TextBlob object with the sentence\n",
    "blob = TextBlob(sentence)\n",
    "\n",
    "# Correct the spelling in the sentence\n",
    "corrected_sentence = blob.correct()\n",
    "\n",
    "# Print the corrected sentence\n",
    "print(f'Corrected sentence: {corrected_sentence}')\n"
   ]
  },
  {
   "cell_type": "markdown",
   "id": "82e9cdd1",
   "metadata": {},
   "source": [
    "#### Correct the spelling in the sentence"
   ]
  },
  {
   "cell_type": "code",
   "execution_count": 33,
   "id": "4ecbcbfe",
   "metadata": {},
   "outputs": [
    {
     "name": "stdout",
     "output_type": "stream",
     "text": [
      "Corrected sentence: I dont know who to spell sentence\n"
     ]
    }
   ],
   "source": [
    "# Print the corrected sentence\n",
    "print(f'Corrected sentence: {corrected_sentence}')"
   ]
  },
  {
   "cell_type": "markdown",
   "id": "d4ee86c0",
   "metadata": {},
   "source": [
    "#### Get the Sentiment (Polarity and Subjectivity) of the phrase: \"I love homework\""
   ]
  },
  {
   "cell_type": "code",
   "execution_count": 41,
   "id": "8fbaf9ea",
   "metadata": {},
   "outputs": [
    {
     "data": {
      "text/plain": [
       "Sentiment(polarity=0.5, subjectivity=0.6)"
      ]
     },
     "execution_count": 41,
     "metadata": {},
     "output_type": "execute_result"
    }
   ],
   "source": [
    "from textblob import TextBlob\n",
    "TextBlob(\"I love homework\").sentiment"
   ]
  },
  {
   "cell_type": "markdown",
   "id": "6f687ec2",
   "metadata": {},
   "source": [
    "Do you agree with the result?"
   ]
  },
  {
   "cell_type": "markdown",
   "id": "f502d4c1-780b-473b-b612-24edf9b040f6",
   "metadata": {},
   "source": [
    "# Yes, the sentiment analysis result provided by TextBlob seems reasonable:\n",
    "\n",
    "Polarity: 0.5 indicates a positive sentiment. In the context of the phrase \"I love homework,\" a positive polarity is expected because the word \"love\" conveys a positive sentiment.\n",
    "Subjectivity: 0.6 suggests that the statement is somewhat subjective. The phrase expresses a personal feeling or opinion about homework, which aligns with the subjectivity score.\n",
    "\n",
    "So, yes, TextBlob got it correct."
   ]
  },
  {
   "cell_type": "markdown",
   "id": "6e36eb56",
   "metadata": {},
   "source": [
    "### Get the polarity scores"
   ]
  },
  {
   "cell_type": "code",
   "execution_count": 34,
   "id": "dbe428fc",
   "metadata": {},
   "outputs": [],
   "source": [
    "# install vaderSentiment\n",
    "#!pip install vaderSentiment"
   ]
  },
  {
   "cell_type": "code",
   "execution_count": 38,
   "id": "0630a213",
   "metadata": {},
   "outputs": [
    {
     "name": "stdout",
     "output_type": "stream",
     "text": [
      "Requirement already satisfied: vaderSentiment in c:\\users\\william\\anaconda3\\lib\\site-packages (3.3.2)\n",
      "Requirement already satisfied: requests in c:\\users\\william\\anaconda3\\lib\\site-packages (from vaderSentiment) (2.31.0)\n",
      "Requirement already satisfied: charset-normalizer<4,>=2 in c:\\users\\william\\anaconda3\\lib\\site-packages (from requests->vaderSentiment) (2.0.4)\n",
      "Requirement already satisfied: idna<4,>=2.5 in c:\\users\\william\\anaconda3\\lib\\site-packages (from requests->vaderSentiment) (3.4)\n",
      "Requirement already satisfied: urllib3<3,>=1.21.1 in c:\\users\\william\\anaconda3\\lib\\site-packages (from requests->vaderSentiment) (2.0.7)\n",
      "Requirement already satisfied: certifi>=2017.4.17 in c:\\users\\william\\anaconda3\\lib\\site-packages (from requests->vaderSentiment) (2024.2.2)\n",
      "{'neg': 0.0, 'neu': 0.494, 'pos': 0.506, 'compound': 0.6239}\n"
     ]
    }
   ],
   "source": [
    "# !pip install vaderSentiment\n",
    "!pip install vaderSentiment\n",
    "\n",
    "from vaderSentiment.vaderSentiment import SentimentIntensityAnalyzer\n",
    "\n",
    "# Initialize the VADER sentiment analyzer\n",
    "analyser = SentimentIntensityAnalyzer()\n",
    "\n",
    "# Get the polarity scores for the phrase\n",
    "scores = analyser.polarity_scores(\"OMG! This class is amazing\")\n",
    "\n",
    "# Print the polarity scores\n",
    "print(scores)\n"
   ]
  },
  {
   "cell_type": "markdown",
   "id": "3cbb708e",
   "metadata": {},
   "source": [
    "### Share the name of a song or a poem and translate it to two other languages"
   ]
  },
  {
   "cell_type": "markdown",
   "id": "52f94635-34b0-4644-929e-a984a50d1b9a",
   "metadata": {},
   "source": [
    "\"Yesterday\" by The Beatles. We’ll translate it into Spanish and French.\n",
    "\n",
    "Original Song Title: \"Yesterday\"\n",
    "\n",
    "Translation to Spanish\n",
    "Title: \"Ayer\"\n",
    "Translation to French\n",
    "Title: \"Hier\""
   ]
  },
  {
   "cell_type": "code",
   "execution_count": null,
   "id": "b13a160f",
   "metadata": {},
   "outputs": [],
   "source": []
  }
 ],
 "metadata": {
  "kernelspec": {
   "display_name": "Python 3 (ipykernel)",
   "language": "python",
   "name": "python3"
  },
  "language_info": {
   "codemirror_mode": {
    "name": "ipython",
    "version": 3
   },
   "file_extension": ".py",
   "mimetype": "text/x-python",
   "name": "python",
   "nbconvert_exporter": "python",
   "pygments_lexer": "ipython3",
   "version": "3.11.7"
  }
 },
 "nbformat": 4,
 "nbformat_minor": 5
}
